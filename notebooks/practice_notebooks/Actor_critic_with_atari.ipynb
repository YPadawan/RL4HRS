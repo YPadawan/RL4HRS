{
 "cells": [
  {
   "cell_type": "markdown",
   "id": "07b88aed",
   "metadata": {},
   "source": [
    "# Implementing actor-critic with deep reinforcement learning\n",
    "\n",
    "## Introduction\n",
    "\n",
    "Actor-critic merges both actor methods with critic methods it optimizes both on-policy and off-policy algorithms and uses one for the other.\n",
    "\n",
    "- The algorithm will be implemented using the same environment and the same neural network used with dqn\n",
    "- The main difference is that the neural net will be implemented twice, with two different fc layers.\n",
    "    - One unique valued fc for the value function\n",
    "    - A softmax with dimension num_actions (like the dqn)"
   ]
  },
  {
   "cell_type": "code",
   "execution_count": 1,
   "id": "3fac93f9",
   "metadata": {},
   "outputs": [
    {
     "name": "stderr",
     "output_type": "stream",
     "text": [
      "A.L.E: Arcade Learning Environment (version 0.7.5+db37282)\n",
      "[Powered by Stella]\n"
     ]
    }
   ],
   "source": [
    "import gym\n",
    "from ale_py import ALEInterface\n",
    "ale = ALEInterface()"
   ]
  },
  {
   "cell_type": "code",
   "execution_count": 2,
   "id": "2cb93fa1",
   "metadata": {},
   "outputs": [],
   "source": [
    "import stable_baselines3.common.atari_wrappers as atari_wrappers"
   ]
  },
  {
   "cell_type": "code",
   "execution_count": 8,
   "id": "50bc6d4f",
   "metadata": {},
   "outputs": [],
   "source": [
    "import numpy as np\n",
    "import torch\n",
    "import torch.nn as nn\n",
    "import torch.optim as optim\n",
    "\n",
    "from collections import deque"
   ]
  },
  {
   "cell_type": "markdown",
   "id": "cf9428af",
   "metadata": {},
   "source": [
    "## Installing the environment"
   ]
  },
  {
   "cell_type": "code",
   "execution_count": 4,
   "id": "2d3410da",
   "metadata": {},
   "outputs": [
    {
     "name": "stderr",
     "output_type": "stream",
     "text": [
      "A.L.E: Arcade Learning Environment (version 0.7.5+db37282)\n",
      "[Powered by Stella]\n"
     ]
    }
   ],
   "source": [
    "# initial environment\n",
    "env = gym.make('PongNoFrameskip-v4')\n",
    "\n",
    "# Atari preprocessing wrapper\n",
    "env = gym.wrappers.AtariPreprocessing(env, noop_max=30, \n",
    "                                      frame_skip=4, screen_size=84, \n",
    "                                      terminal_on_life_loss=False, \n",
    "                                      grayscale_obs=True, grayscale_newaxis=False, \n",
    "                                      scale_obs=False)\n",
    "\n",
    "# Frame stacking\n",
    "env = gym.wrappers.FrameStack(env, 4)\n",
    "\n",
    "# using atari_wrappers\n",
    "env = atari_wrappers.ClipRewardEnv(env)"
   ]
  },
  {
   "cell_type": "code",
   "execution_count": 5,
   "id": "e1a0b8e6",
   "metadata": {},
   "outputs": [
    {
     "data": {
      "text/plain": [
       "['NOOP', 'FIRE', 'RIGHT', 'LEFT', 'RIGHTFIRE', 'LEFTFIRE']"
      ]
     },
     "execution_count": 5,
     "metadata": {},
     "output_type": "execute_result"
    }
   ],
   "source": [
    "#actions in this environment\n",
    "env.unwrapped.get_action_meanings()"
   ]
  },
  {
   "cell_type": "code",
   "execution_count": 6,
   "id": "8cdf9649",
   "metadata": {},
   "outputs": [],
   "source": [
    "# just testing a state to make sure it works\n",
    "s0 = env.reset()\n",
    "a0 = env.action_space.sample()\n",
    "\n",
    "# execute the action\n",
    "s1, r1, is_final_state, info = env.step(a0)"
   ]
  },
  {
   "cell_type": "markdown",
   "id": "f4f05aca",
   "metadata": {},
   "source": [
    "# RL utils"
   ]
  },
  {
   "cell_type": "code",
   "execution_count": 9,
   "id": "d8c6f5c7",
   "metadata": {},
   "outputs": [],
   "source": [
    "def epsilon_greedy(eps, model, env, state):\n",
    "    if np.random.random() < eps:\n",
    "        # exploration\n",
    "        action = np.random.randint(0, env.action_space.n)\n",
    "        return action\n",
    "    else:\n",
    "        # exploitation\n",
    "        q_vals = model.predict(state)\n",
    "        action = np.argmax(q_vals)\n",
    "        return action\n",
    "    \n",
    "\n",
    "\n",
    "def memory_initialization(env, MAX_MEM, INIT_MEM):\n",
    "    \"\"\"Initializes the memory for experience replay\"\"\"\n",
    "    \n",
    "    memory = deque(maxlen=MAX_MEM)\n",
    "    \n",
    "    while len(memory) < INIT_MEM:\n",
    "        \n",
    "        state = env.reset()\n",
    "        \n",
    "        is_final_state = False\n",
    "        \n",
    "        while not is_final_state:\n",
    "            \n",
    "            # generate a random action\n",
    "            action = env.action_space.sample()\n",
    "            \n",
    "            # execute the action\n",
    "            new_state, reward, is_final_state, info = env.step(action)\n",
    "            \n",
    "            # add transition quadruple to memory\n",
    "            memory.append([np.expand_dims(state, axis=0), action, reward, \n",
    "                           np.expand_dims(new_state, axis=0), is_final_state])\n",
    "            \n",
    "            # update state\n",
    "            state = new_state\n",
    "            \n",
    "    return memory"
   ]
  },
  {
   "cell_type": "markdown",
   "id": "faa332c4",
   "metadata": {},
   "source": [
    "## Implementing the neural network"
   ]
  },
  {
   "cell_type": "code",
   "execution_count": 7,
   "id": "45ab73a5",
   "metadata": {},
   "outputs": [],
   "source": [
    "class ConvNet(nn.Module):\n",
    "    \n",
    "    def __init__(self, n_actions):\n",
    "        super(ConvNet, self).__init__()\n",
    "        self.n_actions\n",
    "        \n",
    "        self.conv1 = nn.Sequential(\n",
    "            nn.Conv2d(4, 32, kernel_size=8, stride=4),\n",
    "            nn.ReLU()\n",
    "        )\n",
    "        self.conv2 = nn.Sequential(\n",
    "            nn.Conv2d(32, 64, kernel_size=4, stride=2),\n",
    "            nn.ReLU()\n",
    "        )\n",
    "        self.conv3 = nn.Sequential(\n",
    "            nn.Conv2d(64, 64, kernel_size=3, stride=1),\n",
    "            nn.ReLU()\n",
    "        )\n",
    "        self.hidden = nn.Sequential(\n",
    "            nn.Linear(64 * 7 * 7, 512, bias=True),\n",
    "            nn.ReLU()\n",
    "        )\n",
    "        self.out_actor = nn.Sequential(\n",
    "            nn.Linear(512, self.n_actions, bias=True)\n",
    "        )\n",
    "        \n",
    "        self.out_critic = nn.Sequential(\n",
    "            nn.Linear(512, 1, bias=True)\n",
    "        )\n",
    "        \n",
    "        \n",
    "    def forward(self, x):\n",
    "        x = self.conv1(x)\n",
    "        x = self.conv2(x)\n",
    "        x = self.conv3(x)\n",
    "        x = x.view(x.size(0), -1)\n",
    "        x = self.hidden(x)\n",
    "        x_actor = self.out_actor(x)\n",
    "        x_critic = self.out_critic(x)\n",
    "        \n",
    "        return x_actor, x_critic"
   ]
  },
  {
   "cell_type": "markdown",
   "id": "54d29583",
   "metadata": {},
   "source": [
    "# Implementing actor critic algorithm"
   ]
  },
  {
   "cell_type": "code",
   "execution_count": null,
   "id": "f189040d",
   "metadata": {},
   "outputs": [],
   "source": []
  },
  {
   "cell_type": "code",
   "execution_count": 10,
   "id": "3554da32",
   "metadata": {},
   "outputs": [],
   "source": [
    "from functools import reduce"
   ]
  },
  {
   "cell_type": "code",
   "execution_count": null,
   "id": "a7c3c37b",
   "metadata": {},
   "outputs": [],
   "source": [
    "\n",
    "# initializing network parameters (no need?)\n",
    "\n",
    "# Initializing max episodes\n",
    "max_episodes = 100\n",
    "horizon = 20\n",
    "\n",
    "# initializing training memory and agent memory\n",
    "agent_mem = []\n",
    "train_mem = []\n",
    "Tmax = 1000\n",
    "\n",
    "eps = 1e-2\n",
    "\n",
    "gamma = 0.5\n",
    "\n",
    "for episode in range(max_episodes):\n",
    "    for t in horizon:\n",
    "        state = env.reset()\n",
    "        \n",
    "        env.render()\n",
    "        \n",
    "        frames += 1\n",
    "        \n",
    "        #epsilon greedy choose action\n",
    "        action = epsilon_greedy(eps, model, env, np.expand_dims(state, axis=0))\n",
    "        \n",
    "        #execute action\n",
    "        new_state, reward, done, info = env.step(action)\n",
    "        agent_mem.append(tuple(state, reward, action, new_state))\n",
    "    \n",
    "    # Computing rho_t with rewards in agent memory\n",
    "    # think of adding .to(device) later for gpu use\n",
    "    agents_states = torch.FloatTensor([tr[0] for tr in agent_mem]) \n",
    "    agents_rewards = torch.FloatTensor([tr[1] for tr in agent_mem])\n",
    "    agents_actions = torch.LongTensor([tr[2] for tr in agent_mem]).view(-1, 1)\n",
    "    agents_new_states = torch.FloatTensor([sars[3] for sars in trajectory])\n",
    "\n",
    "    rho = reduce(lambda x, y: x + gamma*y, [tr[1] for tr in agent_mem])\n",
    "    train_mem.append()\n"
   ]
  }
 ],
 "metadata": {
  "kernelspec": {
   "display_name": "Python 3 (ipykernel)",
   "language": "python",
   "name": "python3"
  },
  "language_info": {
   "codemirror_mode": {
    "name": "ipython",
    "version": 3
   },
   "file_extension": ".py",
   "mimetype": "text/x-python",
   "name": "python",
   "nbconvert_exporter": "python",
   "pygments_lexer": "ipython3",
   "version": "3.8.10"
  }
 },
 "nbformat": 4,
 "nbformat_minor": 5
}
